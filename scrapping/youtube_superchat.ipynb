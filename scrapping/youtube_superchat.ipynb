{
  "nbformat": 4,
  "nbformat_minor": 0,
  "metadata": {
    "colab": {
      "provenance": [],
      "collapsed_sections": [],
      "authorship_tag": "ABX9TyOOxveg9ZmSlKPyOsnX4ivR",
      "include_colab_link": true
    },
    "kernelspec": {
      "name": "python3",
      "display_name": "Python 3"
    },
    "language_info": {
      "name": "python"
    },
    "widgets": {
      "application/vnd.jupyter.widget-state+json": {
        "22bafbd2c8ec4e188e7ee89e2ee7a1f4": {
          "model_module": "@jupyter-widgets/controls",
          "model_name": "HBoxModel",
          "model_module_version": "1.5.0",
          "state": {
            "_dom_classes": [],
            "_model_module": "@jupyter-widgets/controls",
            "_model_module_version": "1.5.0",
            "_model_name": "HBoxModel",
            "_view_count": null,
            "_view_module": "@jupyter-widgets/controls",
            "_view_module_version": "1.5.0",
            "_view_name": "HBoxView",
            "box_style": "",
            "children": [
              "IPY_MODEL_f1bda7eaa01341558b16705da6a7b512",
              "IPY_MODEL_56493d51019b415f8ecb3a13b59d5ae2",
              "IPY_MODEL_2a6bc85877e84b44ab41d056ce2f3847"
            ],
            "layout": "IPY_MODEL_a616c1b96a2445e9a14b357943d9604c"
          }
        },
        "f1bda7eaa01341558b16705da6a7b512": {
          "model_module": "@jupyter-widgets/controls",
          "model_name": "HTMLModel",
          "model_module_version": "1.5.0",
          "state": {
            "_dom_classes": [],
            "_model_module": "@jupyter-widgets/controls",
            "_model_module_version": "1.5.0",
            "_model_name": "HTMLModel",
            "_view_count": null,
            "_view_module": "@jupyter-widgets/controls",
            "_view_module_version": "1.5.0",
            "_view_name": "HTMLView",
            "description": "",
            "description_tooltip": null,
            "layout": "IPY_MODEL_bf2710fa13a1424cbe7ff80d37a95b3d",
            "placeholder": "​",
            "style": "IPY_MODEL_a54df25ad6cf4d089f702022c1875592",
            "value": "100%"
          }
        },
        "56493d51019b415f8ecb3a13b59d5ae2": {
          "model_module": "@jupyter-widgets/controls",
          "model_name": "FloatProgressModel",
          "model_module_version": "1.5.0",
          "state": {
            "_dom_classes": [],
            "_model_module": "@jupyter-widgets/controls",
            "_model_module_version": "1.5.0",
            "_model_name": "FloatProgressModel",
            "_view_count": null,
            "_view_module": "@jupyter-widgets/controls",
            "_view_module_version": "1.5.0",
            "_view_name": "ProgressView",
            "bar_style": "success",
            "description": "",
            "description_tooltip": null,
            "layout": "IPY_MODEL_0271f4aea44342f8994c3dce86f9c0b6",
            "max": 120,
            "min": 0,
            "orientation": "horizontal",
            "style": "IPY_MODEL_13c3a648e3af43b4b980e856e93b8572",
            "value": 120
          }
        },
        "2a6bc85877e84b44ab41d056ce2f3847": {
          "model_module": "@jupyter-widgets/controls",
          "model_name": "HTMLModel",
          "model_module_version": "1.5.0",
          "state": {
            "_dom_classes": [],
            "_model_module": "@jupyter-widgets/controls",
            "_model_module_version": "1.5.0",
            "_model_name": "HTMLModel",
            "_view_count": null,
            "_view_module": "@jupyter-widgets/controls",
            "_view_module_version": "1.5.0",
            "_view_name": "HTMLView",
            "description": "",
            "description_tooltip": null,
            "layout": "IPY_MODEL_4bf2c741dd974a849e1a4653330fc714",
            "placeholder": "​",
            "style": "IPY_MODEL_01fca7b801b043b7b432e390f0d5a475",
            "value": " 120/120 [2:10:31&lt;00:00, 64.17s/it]"
          }
        },
        "a616c1b96a2445e9a14b357943d9604c": {
          "model_module": "@jupyter-widgets/base",
          "model_name": "LayoutModel",
          "model_module_version": "1.2.0",
          "state": {
            "_model_module": "@jupyter-widgets/base",
            "_model_module_version": "1.2.0",
            "_model_name": "LayoutModel",
            "_view_count": null,
            "_view_module": "@jupyter-widgets/base",
            "_view_module_version": "1.2.0",
            "_view_name": "LayoutView",
            "align_content": null,
            "align_items": null,
            "align_self": null,
            "border": null,
            "bottom": null,
            "display": null,
            "flex": null,
            "flex_flow": null,
            "grid_area": null,
            "grid_auto_columns": null,
            "grid_auto_flow": null,
            "grid_auto_rows": null,
            "grid_column": null,
            "grid_gap": null,
            "grid_row": null,
            "grid_template_areas": null,
            "grid_template_columns": null,
            "grid_template_rows": null,
            "height": null,
            "justify_content": null,
            "justify_items": null,
            "left": null,
            "margin": null,
            "max_height": null,
            "max_width": null,
            "min_height": null,
            "min_width": null,
            "object_fit": null,
            "object_position": null,
            "order": null,
            "overflow": null,
            "overflow_x": null,
            "overflow_y": null,
            "padding": null,
            "right": null,
            "top": null,
            "visibility": null,
            "width": null
          }
        },
        "bf2710fa13a1424cbe7ff80d37a95b3d": {
          "model_module": "@jupyter-widgets/base",
          "model_name": "LayoutModel",
          "model_module_version": "1.2.0",
          "state": {
            "_model_module": "@jupyter-widgets/base",
            "_model_module_version": "1.2.0",
            "_model_name": "LayoutModel",
            "_view_count": null,
            "_view_module": "@jupyter-widgets/base",
            "_view_module_version": "1.2.0",
            "_view_name": "LayoutView",
            "align_content": null,
            "align_items": null,
            "align_self": null,
            "border": null,
            "bottom": null,
            "display": null,
            "flex": null,
            "flex_flow": null,
            "grid_area": null,
            "grid_auto_columns": null,
            "grid_auto_flow": null,
            "grid_auto_rows": null,
            "grid_column": null,
            "grid_gap": null,
            "grid_row": null,
            "grid_template_areas": null,
            "grid_template_columns": null,
            "grid_template_rows": null,
            "height": null,
            "justify_content": null,
            "justify_items": null,
            "left": null,
            "margin": null,
            "max_height": null,
            "max_width": null,
            "min_height": null,
            "min_width": null,
            "object_fit": null,
            "object_position": null,
            "order": null,
            "overflow": null,
            "overflow_x": null,
            "overflow_y": null,
            "padding": null,
            "right": null,
            "top": null,
            "visibility": null,
            "width": null
          }
        },
        "a54df25ad6cf4d089f702022c1875592": {
          "model_module": "@jupyter-widgets/controls",
          "model_name": "DescriptionStyleModel",
          "model_module_version": "1.5.0",
          "state": {
            "_model_module": "@jupyter-widgets/controls",
            "_model_module_version": "1.5.0",
            "_model_name": "DescriptionStyleModel",
            "_view_count": null,
            "_view_module": "@jupyter-widgets/base",
            "_view_module_version": "1.2.0",
            "_view_name": "StyleView",
            "description_width": ""
          }
        },
        "0271f4aea44342f8994c3dce86f9c0b6": {
          "model_module": "@jupyter-widgets/base",
          "model_name": "LayoutModel",
          "model_module_version": "1.2.0",
          "state": {
            "_model_module": "@jupyter-widgets/base",
            "_model_module_version": "1.2.0",
            "_model_name": "LayoutModel",
            "_view_count": null,
            "_view_module": "@jupyter-widgets/base",
            "_view_module_version": "1.2.0",
            "_view_name": "LayoutView",
            "align_content": null,
            "align_items": null,
            "align_self": null,
            "border": null,
            "bottom": null,
            "display": null,
            "flex": null,
            "flex_flow": null,
            "grid_area": null,
            "grid_auto_columns": null,
            "grid_auto_flow": null,
            "grid_auto_rows": null,
            "grid_column": null,
            "grid_gap": null,
            "grid_row": null,
            "grid_template_areas": null,
            "grid_template_columns": null,
            "grid_template_rows": null,
            "height": null,
            "justify_content": null,
            "justify_items": null,
            "left": null,
            "margin": null,
            "max_height": null,
            "max_width": null,
            "min_height": null,
            "min_width": null,
            "object_fit": null,
            "object_position": null,
            "order": null,
            "overflow": null,
            "overflow_x": null,
            "overflow_y": null,
            "padding": null,
            "right": null,
            "top": null,
            "visibility": null,
            "width": null
          }
        },
        "13c3a648e3af43b4b980e856e93b8572": {
          "model_module": "@jupyter-widgets/controls",
          "model_name": "ProgressStyleModel",
          "model_module_version": "1.5.0",
          "state": {
            "_model_module": "@jupyter-widgets/controls",
            "_model_module_version": "1.5.0",
            "_model_name": "ProgressStyleModel",
            "_view_count": null,
            "_view_module": "@jupyter-widgets/base",
            "_view_module_version": "1.2.0",
            "_view_name": "StyleView",
            "bar_color": null,
            "description_width": ""
          }
        },
        "4bf2c741dd974a849e1a4653330fc714": {
          "model_module": "@jupyter-widgets/base",
          "model_name": "LayoutModel",
          "model_module_version": "1.2.0",
          "state": {
            "_model_module": "@jupyter-widgets/base",
            "_model_module_version": "1.2.0",
            "_model_name": "LayoutModel",
            "_view_count": null,
            "_view_module": "@jupyter-widgets/base",
            "_view_module_version": "1.2.0",
            "_view_name": "LayoutView",
            "align_content": null,
            "align_items": null,
            "align_self": null,
            "border": null,
            "bottom": null,
            "display": null,
            "flex": null,
            "flex_flow": null,
            "grid_area": null,
            "grid_auto_columns": null,
            "grid_auto_flow": null,
            "grid_auto_rows": null,
            "grid_column": null,
            "grid_gap": null,
            "grid_row": null,
            "grid_template_areas": null,
            "grid_template_columns": null,
            "grid_template_rows": null,
            "height": null,
            "justify_content": null,
            "justify_items": null,
            "left": null,
            "margin": null,
            "max_height": null,
            "max_width": null,
            "min_height": null,
            "min_width": null,
            "object_fit": null,
            "object_position": null,
            "order": null,
            "overflow": null,
            "overflow_x": null,
            "overflow_y": null,
            "padding": null,
            "right": null,
            "top": null,
            "visibility": null,
            "width": null
          }
        },
        "01fca7b801b043b7b432e390f0d5a475": {
          "model_module": "@jupyter-widgets/controls",
          "model_name": "DescriptionStyleModel",
          "model_module_version": "1.5.0",
          "state": {
            "_model_module": "@jupyter-widgets/controls",
            "_model_module_version": "1.5.0",
            "_model_name": "DescriptionStyleModel",
            "_view_count": null,
            "_view_module": "@jupyter-widgets/base",
            "_view_module_version": "1.2.0",
            "_view_name": "StyleView",
            "description_width": ""
          }
        }
      }
    }
  },
  "cells": [
    {
      "cell_type": "markdown",
      "metadata": {
        "id": "view-in-github",
        "colab_type": "text"
      },
      "source": [
        "<a href=\"https://colab.research.google.com/github/admantiumblack/hololive-datawarehouse-project/blob/main/youtube_superchat.ipynb\" target=\"_parent\"><img src=\"https://colab.research.google.com/assets/colab-badge.svg\" alt=\"Open In Colab\"/></a>"
      ]
    },
    {
      "cell_type": "code",
      "source": [
        "!pip install chat-downloader"
      ],
      "metadata": {
        "colab": {
          "base_uri": "https://localhost:8080/",
          "height": 420
        },
        "id": "t3Bu5ZCXzIB1",
        "outputId": "f3f245b2-4569-47e8-e4e1-139bf3250cc6"
      },
      "execution_count": null,
      "outputs": [
        {
          "output_type": "stream",
          "name": "stdout",
          "text": [
            "Looking in indexes: https://pypi.org/simple, https://us-python.pkg.dev/colab-wheels/public/simple/\n",
            "Requirement already satisfied: chat-downloader in /usr/local/lib/python3.7/dist-packages (0.2.0)\n",
            "Collecting argparse\n",
            "  Using cached argparse-1.4.0-py2.py3-none-any.whl (23 kB)\n",
            "Requirement already satisfied: websocket-client in /usr/local/lib/python3.7/dist-packages (from chat-downloader) (1.4.1)\n",
            "Requirement already satisfied: docstring-parser in /usr/local/lib/python3.7/dist-packages (from chat-downloader) (0.15)\n",
            "Requirement already satisfied: colorlog in /usr/local/lib/python3.7/dist-packages (from chat-downloader) (6.7.0)\n",
            "Requirement already satisfied: requests in /usr/local/lib/python3.7/dist-packages (from chat-downloader) (2.23.0)\n",
            "Requirement already satisfied: isodate in /usr/local/lib/python3.7/dist-packages (from chat-downloader) (0.6.1)\n",
            "Requirement already satisfied: six in /usr/local/lib/python3.7/dist-packages (from isodate->chat-downloader) (1.15.0)\n",
            "Requirement already satisfied: urllib3!=1.25.0,!=1.25.1,<1.26,>=1.21.1 in /usr/local/lib/python3.7/dist-packages (from requests->chat-downloader) (1.24.3)\n",
            "Requirement already satisfied: idna<3,>=2.5 in /usr/local/lib/python3.7/dist-packages (from requests->chat-downloader) (2.10)\n",
            "Requirement already satisfied: certifi>=2017.4.17 in /usr/local/lib/python3.7/dist-packages (from requests->chat-downloader) (2022.9.24)\n",
            "Requirement already satisfied: chardet<4,>=3.0.2 in /usr/local/lib/python3.7/dist-packages (from requests->chat-downloader) (3.0.4)\n",
            "Installing collected packages: argparse\n",
            "Successfully installed argparse-1.4.0\n"
          ]
        },
        {
          "output_type": "display_data",
          "data": {
            "application/vnd.colab-display-data+json": {
              "pip_warning": {
                "packages": [
                  "argparse"
                ]
              }
            }
          },
          "metadata": {}
        }
      ]
    },
    {
      "cell_type": "code",
      "execution_count": null,
      "metadata": {
        "id": "t0OfV2wKQTvX"
      },
      "outputs": [],
      "source": [
        "from requests.exceptions import RequestException\n",
        "from chat_downloader import ChatDownloader\n",
        "from collections.abc import Sequence\n",
        "from functools import lru_cache\n",
        "from getpass import getpass\n",
        "from tqdm.auto import tqdm\n",
        "import pandas as pd\n",
        "import numpy as np\n",
        "import requests\n",
        "import json\n",
        "import math\n",
        "\n",
        "CHANNEL_ID = 'UCP0BspO_AMEe3aQqqpo89Dg'\n",
        "VTUBER = 'moonahoshinova'\n",
        "N_VIDEOS = 120"
      ]
    },
    {
      "cell_type": "code",
      "source": [
        "YOUTUBE_SECRET_KEY = getpass()"
      ],
      "metadata": {
        "colab": {
          "base_uri": "https://localhost:8080/"
        },
        "id": "tsxeRGdjQtnN",
        "outputId": "a1eb84b7-6c37-4041-e6a7-ac90cf794d48"
      },
      "execution_count": null,
      "outputs": [
        {
          "name": "stdout",
          "output_type": "stream",
          "text": [
            "··········\n"
          ]
        }
      ]
    },
    {
      "cell_type": "code",
      "source": [
        "DEFAULT_PARAMS = {\n",
        "    'key': YOUTUBE_SECRET_KEY\n",
        "}"
      ],
      "metadata": {
        "id": "_MdiZOJatgff"
      },
      "execution_count": null,
      "outputs": []
    },
    {
      "cell_type": "code",
      "source": [
        "def construct_url(base_url, params):\n",
        "  param_parts = []\n",
        "  for i in params:\n",
        "    if isinstance(params[i], (str, int, float)):\n",
        "      param_parts.append(f'{i}={params[i]}')\n",
        "    else:\n",
        "      param_parts.append(f'{i}={\",\".join(params[i])}')\n",
        "  return base_url + '?' + '&'.join(param_parts)"
      ],
      "metadata": {
        "id": "f47oK7jZfLck"
      },
      "execution_count": null,
      "outputs": []
    },
    {
      "cell_type": "code",
      "source": [
        "def get_playlist_id(channel_id, playlist_name='uploads'):\n",
        "  channel_detail_api = \"https://youtube.googleapis.com/youtube/v3/channels\"\n",
        "  parameter = {\n",
        "      'part': 'contentDetails',\n",
        "      'id': channel_id,\n",
        "  }\n",
        "  parameter.update(DEFAULT_PARAMS)\n",
        "  api = construct_url(channel_detail_api, parameter)\n",
        "  resp = requests.get(api).json()\n",
        "  try:\n",
        "    return resp[\"items\"][0][\"contentDetails\"][\"relatedPlaylists\"][playlist_name]\n",
        "  except:\n",
        "    raise RequestException\n",
        "\n",
        "def get_playlist_items(playlist_id, video_number=50):\n",
        "    playlist_api = \"https://www.googleapis.com/youtube/v3/playlistItems\"\n",
        "    parameter = {\n",
        "        'part': 'contentDetails',\n",
        "        'playlistId':playlist_id\n",
        "    }\n",
        "    parameter.update(DEFAULT_PARAMS)\n",
        "    video_details = []\n",
        "\n",
        "    while video_number != 0:\n",
        "      max_per_page = 50\n",
        "\n",
        "      if video_number < max_per_page:\n",
        "        max_per_page = video_number\n",
        "\n",
        "      video_number -= max_per_page\n",
        "      parameter['maxResults'] = max_per_page\n",
        "      api = construct_url(playlist_api, parameter)\n",
        "\n",
        "      resp = requests.get(api).json()\n",
        "      video_details.extend(resp['items'])\n",
        "      if 'nextPageToken' not in resp:\n",
        "        break\n",
        "\n",
        "    return video_details"
      ],
      "metadata": {
        "id": "81ZbAZipRMDB"
      },
      "execution_count": null,
      "outputs": []
    },
    {
      "cell_type": "code",
      "source": [
        "playlist_key = get_playlist_id(CHANNEL_ID)\n",
        "videos = get_playlist_items(playlist_key, N_VIDEOS)"
      ],
      "metadata": {
        "id": "E3bF_SmzZKE2"
      },
      "execution_count": null,
      "outputs": []
    },
    {
      "cell_type": "code",
      "source": [
        "video_ids = [i['contentDetails']['videoId'] for i in videos]"
      ],
      "metadata": {
        "id": "E5itqvJrOjBj"
      },
      "execution_count": null,
      "outputs": []
    },
    {
      "cell_type": "code",
      "source": [
        "def get_video_details(vid_ids):\n",
        "    video_detail_api = \"https://youtube.googleapis.com/youtube/v3/videos\"\n",
        "    parameters = {\n",
        "      'part': ['liveStreamingDetails', 'statistics', 'topicDetails']\n",
        "    }\n",
        "    parameters.update(DEFAULT_PARAMS)\n",
        "    result = []\n",
        "    vid_ids = np.array_split(video_ids, math.ceil(len(video_ids)/50))\n",
        "    for i in vid_ids:\n",
        "      parameters['id'] = i\n",
        "      api = construct_url(video_detail_api, parameters)\n",
        "      video_details = requests.get(api).json()\n",
        "      result.extend(video_details['items'])\n",
        "    return result\n"
      ],
      "metadata": {
        "id": "WWT0D3IO1HZj"
      },
      "execution_count": null,
      "outputs": []
    },
    {
      "cell_type": "code",
      "source": [
        "details = get_video_details(video_ids)"
      ],
      "metadata": {
        "id": "YFx84KK41Rud"
      },
      "execution_count": null,
      "outputs": []
    },
    {
      "cell_type": "code",
      "source": [
        "def get_youtube_chat(video_id, message_groups=['superchat']):\n",
        "  url = f'https://www.youtube.com/watch?v={video_id}'\n",
        "  chats = ChatDownloader().get_chat('https://www.youtube.com/watch?v=HfRyoUFBkLM', message_groups=message_groups)\n",
        "  return chats\n",
        "\n",
        "@lru_cache(maxsize=50)\n",
        "def get_conversion_rates(target_currency, date:str=None):\n",
        "  base_api = 'https://api.exchangerate.host/{endpoint}'\n",
        "  param = {\n",
        "      'base': target_currency\n",
        "  }\n",
        "  base_api = construct_url(base_api, param)\n",
        "  if date is None:\n",
        "    api = base_api.format(endpoint='latest')\n",
        "  else:\n",
        "    api = base_api.format(endpoint=date)\n",
        "\n",
        "  rates = requests.get(api).json()['rates']\n",
        "\n",
        "  return rates\n",
        "\n",
        "def get_revenue(message, target_currency, membership_cost, date=None):\n",
        "  revenue = 0\n",
        "  if message['message_type'] == 'paid_message' or message['message_type'] == 'paid_sticker':\n",
        "    message_amount = message['money']['amount']\n",
        "    message_currency = message['money']['currency']\n",
        "    conversion_rate = get_conversion_rates(target_currency, date)\n",
        "    revenue = message_amount / conversion_rate[message_currency]\n",
        "\n",
        "  elif message['message_type'] == 'membership_item':\n",
        "    revenue = membership_cost\n",
        "\n",
        "  return revenue\n",
        "\n",
        "def calculate_livestream_stats(video_id, target_currency='USD', membership_cost=4.99, date=None):\n",
        "  chats = get_youtube_chat(video_id)\n",
        "  res = {\n",
        "      'total_revenue': 0,\n",
        "      'total_superchat': 0\n",
        "  }\n",
        "  for chat in chats.chat:\n",
        "    res['total_revenue'] += get_revenue(chat, target_currency, membership_cost, date)\n",
        "    res['total_superchat'] += 1\n",
        "  return res"
      ],
      "metadata": {
        "id": "taVJwHkmTIaR"
      },
      "execution_count": null,
      "outputs": []
    },
    {
      "cell_type": "code",
      "source": [
        "def get_topics(topic_details):\n",
        "  return [i.replace('https://en.wikipedia.org/wiki/','') for i in topic_details['topicCategories']]\n",
        "\n",
        "def get_all_stream_stats(details, target_currency='USD', membership_cost=4.99):\n",
        "  result = {\n",
        "      'video_id': [],\n",
        "      'date': [],\n",
        "      'total_revenue': [],\n",
        "      'total_superchat': [],\n",
        "      'topics': []\n",
        "  }\n",
        "  for i in tqdm(details):\n",
        "    try:\n",
        "      date_string = i['liveStreamingDetails']['actualStartTime'].split('T')[0]\n",
        "    except KeyError:\n",
        "      continue\n",
        "    stats_dict = calculate_livestream_stats(i['id'], target_currency, membership_cost, date_string)\n",
        "    result['video_id'].append(i['id'])\n",
        "    result['date'].append(date_string)\n",
        "    result['total_revenue'].append(stats_dict['total_revenue'])\n",
        "    result['total_superchat'].append(stats_dict['total_superchat'])\n",
        "    try:\n",
        "      topics = get_topics(i['topicDetails'])\n",
        "    except KeyError:\n",
        "      topics = []\n",
        "    result['topics'].append(topics)\n",
        "  return result"
      ],
      "metadata": {
        "id": "0FG_egsGmds9"
      },
      "execution_count": null,
      "outputs": []
    },
    {
      "cell_type": "code",
      "source": [
        "res = get_all_stream_stats(details)"
      ],
      "metadata": {
        "colab": {
          "base_uri": "https://localhost:8080/",
          "height": 49,
          "referenced_widgets": [
            "22bafbd2c8ec4e188e7ee89e2ee7a1f4",
            "f1bda7eaa01341558b16705da6a7b512",
            "56493d51019b415f8ecb3a13b59d5ae2",
            "2a6bc85877e84b44ab41d056ce2f3847",
            "a616c1b96a2445e9a14b357943d9604c",
            "bf2710fa13a1424cbe7ff80d37a95b3d",
            "a54df25ad6cf4d089f702022c1875592",
            "0271f4aea44342f8994c3dce86f9c0b6",
            "13c3a648e3af43b4b980e856e93b8572",
            "4bf2c741dd974a849e1a4653330fc714",
            "01fca7b801b043b7b432e390f0d5a475"
          ]
        },
        "id": "ZyjTRoZHohzg",
        "outputId": "395b7078-1677-4a37-e0c4-87ed54b1f137"
      },
      "execution_count": null,
      "outputs": [
        {
          "output_type": "display_data",
          "data": {
            "text/plain": [
              "  0%|          | 0/120 [00:00<?, ?it/s]"
            ],
            "application/vnd.jupyter.widget-view+json": {
              "version_major": 2,
              "version_minor": 0,
              "model_id": "22bafbd2c8ec4e188e7ee89e2ee7a1f4"
            }
          },
          "metadata": {}
        }
      ]
    },
    {
      "cell_type": "code",
      "source": [
        "superchat_df = pd.DataFrame(res).drop('topics', axis=1)\n",
        "superchat_df.to_csv(VTUBER + '_superchat.csv', index=False)"
      ],
      "metadata": {
        "id": "Y5fH1OEP222Z"
      },
      "execution_count": null,
      "outputs": []
    },
    {
      "cell_type": "code",
      "source": [
        "video_ids = []\n",
        "topics = []\n",
        "for video_id, video_topics in zip(res['video_id'], res['topics']):\n",
        "  video_ids.extend([video_id for _ in range(len(video_topics))])\n",
        "  topics.extend(video_topics)\n",
        "new_values = {\n",
        "    'video_id': video_ids,\n",
        "    'topic': topics\n",
        "}\n",
        "topics_df = pd.DataFrame(new_values)\n",
        "topics_df.to_csv(VTUBER + '_topics.csv', index=False)"
      ],
      "metadata": {
        "id": "sWFaDElS75D4"
      },
      "execution_count": null,
      "outputs": []
    },
    {
      "cell_type": "code",
      "source": [
        "from google.colab import files\n",
        "files.download(f'{VTUBER}_topics.csv')\n",
        "files.download(f'{VTUBER}_superchat.csv')"
      ],
      "metadata": {
        "colab": {
          "base_uri": "https://localhost:8080/",
          "height": 17
        },
        "id": "X9EBswnw9U0g",
        "outputId": "2e72d09b-2834-456c-ed8f-0997afed381e"
      },
      "execution_count": null,
      "outputs": [
        {
          "output_type": "display_data",
          "data": {
            "text/plain": [
              "<IPython.core.display.Javascript object>"
            ],
            "application/javascript": [
              "\n",
              "    async function download(id, filename, size) {\n",
              "      if (!google.colab.kernel.accessAllowed) {\n",
              "        return;\n",
              "      }\n",
              "      const div = document.createElement('div');\n",
              "      const label = document.createElement('label');\n",
              "      label.textContent = `Downloading \"${filename}\": `;\n",
              "      div.appendChild(label);\n",
              "      const progress = document.createElement('progress');\n",
              "      progress.max = size;\n",
              "      div.appendChild(progress);\n",
              "      document.body.appendChild(div);\n",
              "\n",
              "      const buffers = [];\n",
              "      let downloaded = 0;\n",
              "\n",
              "      const channel = await google.colab.kernel.comms.open(id);\n",
              "      // Send a message to notify the kernel that we're ready.\n",
              "      channel.send({})\n",
              "\n",
              "      for await (const message of channel.messages) {\n",
              "        // Send a message to notify the kernel that we're ready.\n",
              "        channel.send({})\n",
              "        if (message.buffers) {\n",
              "          for (const buffer of message.buffers) {\n",
              "            buffers.push(buffer);\n",
              "            downloaded += buffer.byteLength;\n",
              "            progress.value = downloaded;\n",
              "          }\n",
              "        }\n",
              "      }\n",
              "      const blob = new Blob(buffers, {type: 'application/binary'});\n",
              "      const a = document.createElement('a');\n",
              "      a.href = window.URL.createObjectURL(blob);\n",
              "      a.download = filename;\n",
              "      div.appendChild(a);\n",
              "      a.click();\n",
              "      div.remove();\n",
              "    }\n",
              "  "
            ]
          },
          "metadata": {}
        },
        {
          "output_type": "display_data",
          "data": {
            "text/plain": [
              "<IPython.core.display.Javascript object>"
            ],
            "application/javascript": [
              "download(\"download_b8fda5ed-d89b-4ed5-a1e5-28397c6f4596\", \"moonahoshinova_topics.csv\", 14120)"
            ]
          },
          "metadata": {}
        },
        {
          "output_type": "display_data",
          "data": {
            "text/plain": [
              "<IPython.core.display.Javascript object>"
            ],
            "application/javascript": [
              "\n",
              "    async function download(id, filename, size) {\n",
              "      if (!google.colab.kernel.accessAllowed) {\n",
              "        return;\n",
              "      }\n",
              "      const div = document.createElement('div');\n",
              "      const label = document.createElement('label');\n",
              "      label.textContent = `Downloading \"${filename}\": `;\n",
              "      div.appendChild(label);\n",
              "      const progress = document.createElement('progress');\n",
              "      progress.max = size;\n",
              "      div.appendChild(progress);\n",
              "      document.body.appendChild(div);\n",
              "\n",
              "      const buffers = [];\n",
              "      let downloaded = 0;\n",
              "\n",
              "      const channel = await google.colab.kernel.comms.open(id);\n",
              "      // Send a message to notify the kernel that we're ready.\n",
              "      channel.send({})\n",
              "\n",
              "      for await (const message of channel.messages) {\n",
              "        // Send a message to notify the kernel that we're ready.\n",
              "        channel.send({})\n",
              "        if (message.buffers) {\n",
              "          for (const buffer of message.buffers) {\n",
              "            buffers.push(buffer);\n",
              "            downloaded += buffer.byteLength;\n",
              "            progress.value = downloaded;\n",
              "          }\n",
              "        }\n",
              "      }\n",
              "      const blob = new Blob(buffers, {type: 'application/binary'});\n",
              "      const a = document.createElement('a');\n",
              "      a.href = window.URL.createObjectURL(blob);\n",
              "      a.download = filename;\n",
              "      div.appendChild(a);\n",
              "      a.click();\n",
              "      div.remove();\n",
              "    }\n",
              "  "
            ]
          },
          "metadata": {}
        },
        {
          "output_type": "display_data",
          "data": {
            "text/plain": [
              "<IPython.core.display.Javascript object>"
            ],
            "application/javascript": [
              "download(\"download_a77e7e4d-9bc8-407e-b947-6d5652a4924e\", \"moonahoshinova_superchat.csv\", 5298)"
            ]
          },
          "metadata": {}
        }
      ]
    },
    {
      "cell_type": "code",
      "source": [],
      "metadata": {
        "id": "Jjrl-ZcU-UYv"
      },
      "execution_count": null,
      "outputs": []
    }
  ]
}